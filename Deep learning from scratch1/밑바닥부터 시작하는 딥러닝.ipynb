{
 "cells": [
  {
   "cell_type": "markdown",
   "id": "simple-collins",
   "metadata": {},
   "source": [
    "# 밑바닥부터 시작하는 딥러닝\n",
    "\n",
    "## Class\n"
   ]
  },
  {
   "cell_type": "code",
   "execution_count": 1,
   "id": "similar-trauma",
   "metadata": {},
   "outputs": [
    {
     "name": "stdout",
     "output_type": "stream",
     "text": [
      "Initialized\n",
      "Hello David!\n",
      "Good bye David!\n"
     ]
    }
   ],
   "source": [
    "class man:\n",
    "    def __init__(self, name):\n",
    "        self.name = name\n",
    "        print(\"Initialized\")\n",
    "    \n",
    "    def hello(self):\n",
    "        print(\"Hello \" + self.name + \"!\")\n",
    "    \n",
    "    def goodbye(self):\n",
    "        print(\"Good bye \" + self.name + \"!\")\n",
    "        \n",
    "\n",
    "m = man(\"David\")\n",
    "m.hello()\n",
    "m.goodbye()"
   ]
  },
  {
   "cell_type": "markdown",
   "id": "selected-aging",
   "metadata": {},
   "source": [
    "## Broadcasting"
   ]
  },
  {
   "cell_type": "code",
   "execution_count": 3,
   "id": "hundred-boating",
   "metadata": {},
   "outputs": [
    {
     "name": "stdout",
     "output_type": "stream",
     "text": [
      "[[10 40]\n",
      " [30 80]]\n"
     ]
    }
   ],
   "source": [
    "import numpy as np\n",
    "\n",
    "A = np.array([[1,2],[3,4]])\n",
    "B = np.array([10,20])\n",
    "\n",
    "print(A*B)"
   ]
  },
  {
   "cell_type": "markdown",
   "id": "informative-committee",
   "metadata": {},
   "source": [
    "## Matplotlib"
   ]
  },
  {
   "cell_type": "code",
   "execution_count": 8,
   "id": "meaningful-civilization",
   "metadata": {},
   "outputs": [
    {
     "data": {
      "image/png": "[encoded data removed]",
      "text/plain": [
       "<Figure size 432x288 with 1 Axes>"
      ]
     },
     "metadata": {
      "needs_background": "light"
     },
     "output_type": "display_data"
    }
   ],
   "source": [
    "import numpy as np\n",
    "import matplotlib.pyplot as plt\n",
    "\n",
    "# 데이터 준비\n",
    "x = np.arange(0, 6, 0.1) # 0에서 6까지 0.1 간격으로 생성\n",
    "y1 = np.sin(x)\n",
    "y2 = np.cos(x)\n",
    "\n",
    "# 그래프 그리기\n",
    "plt.plot(x, y1, label=\"sin\")\n",
    "plt.plot(x, y2, linestyle=\"--\", label=\"cos\")\n",
    "plt.xlabel(\"x\")\n",
    "plt.ylabel(\"y\")\n",
    "plt.title('sin & cos')\n",
    "plt.legend()\n",
    "plt.show()\n",
    "\n"
   ]
  },
  {
   "cell_type": "markdown",
   "id": "opening-knowing",
   "metadata": {},
   "source": [
    "## Perceptron\n",
    "\n",
    "### AND GATE ( Rough )"
   ]
  },
  {
   "cell_type": "code",
   "execution_count": 44,
   "id": "split-criminal",
   "metadata": {},
   "outputs": [
    {
     "name": "stdout",
     "output_type": "stream",
     "text": [
      "0\n",
      "0\n",
      "0\n",
      "1\n"
     ]
    }
   ],
   "source": [
    "def AND(x1,x2):\n",
    "    w1, w2, theta = 0.5, 0.5, 0.7\n",
    "    tmp = x1*w1 + x2*w2\n",
    "    \n",
    "    if tmp <= theta:\n",
    "        return 0\n",
    "    elif tmp > theta:\n",
    "        return 1\n",
    "\n",
    "print(AND(0,0))\n",
    "print(AND(0,1))\n",
    "print(AND(1,0))\n",
    "print(AND(1,1))"
   ]
  },
  {
   "cell_type": "markdown",
   "id": "considerable-playback",
   "metadata": {},
   "source": [
    "### AND GATE ( Practical )"
   ]
  },
  {
   "cell_type": "code",
   "execution_count": 45,
   "id": "ranking-disposition",
   "metadata": {},
   "outputs": [
    {
     "name": "stdout",
     "output_type": "stream",
     "text": [
      "0\n",
      "0\n",
      "0\n",
      "1\n"
     ]
    }
   ],
   "source": [
    "# y = 0 if b + w1x1 + w2x2 <= 0\n",
    "# y = 1 if b + w1x1 + w2x2 > 0\n",
    "\n",
    "def AND(x1,x2):\n",
    "    x = np.array([x1, x2])\n",
    "    w = np.array([0.5, 0.5])\n",
    "    b = -0.7\n",
    "    tmp = np.sum(w*x) + b \n",
    "    if tmp <= 0:\n",
    "        return 0\n",
    "    elif tmp > 0:\n",
    "        return 1\n",
    "\n",
    "print(AND(0,0)) \n",
    "print(AND(0,1))\n",
    "print(AND(1,0))\n",
    "print(AND(1,1))"
   ]
  },
  {
   "cell_type": "markdown",
   "id": "annoying-performance",
   "metadata": {},
   "source": [
    "### NAND GATE"
   ]
  },
  {
   "cell_type": "code",
   "execution_count": 46,
   "id": "regional-savings",
   "metadata": {},
   "outputs": [
    {
     "name": "stdout",
     "output_type": "stream",
     "text": [
      "1\n",
      "1\n",
      "1\n",
      "0\n"
     ]
    }
   ],
   "source": [
    "# y = 0 if b + w1x1 + w2x2 >= 0\n",
    "# y = 1 if b + w1x1 + w2x2 < 0\n",
    "\n",
    "def NAND(x1, x2):\n",
    "    x = np.array([x1, x2])\n",
    "    w = np.array([0.5, 0.5])\n",
    "    b = 0.7\n",
    "    tmp = b + np.sum(w*x)\n",
    "    if tmp < 1.7:\n",
    "        return 1\n",
    "    else:\n",
    "        return 0\n",
    "\n",
    "print(NAND(0,0)) \n",
    "print(NAND(0,1))\n",
    "print(NAND(1,0))\n",
    "print(NAND(1,1))"
   ]
  },
  {
   "cell_type": "markdown",
   "id": "thorough-penalty",
   "metadata": {},
   "source": [
    "### OR GATE"
   ]
  },
  {
   "cell_type": "code",
   "execution_count": 47,
   "id": "illegal-break",
   "metadata": {},
   "outputs": [
    {
     "name": "stdout",
     "output_type": "stream",
     "text": [
      "0\n",
      "1\n",
      "1\n",
      "1\n"
     ]
    }
   ],
   "source": [
    "def OR(x1, x2):\n",
    "    x = np.array([x1, x2])\n",
    "    b  = 0.7\n",
    "    w = [0.5, 0.5]\n",
    "    tmp = b + np.sum(x*w)\n",
    "    \n",
    "    if tmp >= 1:\n",
    "        return 1\n",
    "    else:\n",
    "        return 0\n",
    "    \n",
    "print(OR(0,0))\n",
    "print(OR(0,1))\n",
    "print(OR(1,0))\n",
    "print(OR(1,1))"
   ]
  },
  {
   "cell_type": "markdown",
   "id": "rapid-invite",
   "metadata": {},
   "source": [
    "### NOR GATE"
   ]
  },
  {
   "cell_type": "code",
   "execution_count": 48,
   "id": "tired-contact",
   "metadata": {},
   "outputs": [
    {
     "name": "stdout",
     "output_type": "stream",
     "text": [
      "1\n",
      "0\n",
      "0\n",
      "1\n"
     ]
    }
   ],
   "source": [
    "def NOR(x1, x2):\n",
    "    x = np.array([x1, x2])\n",
    "    w = [0.5, 0.5]\n",
    "    b = 0\n",
    "    tmp = b + np.sum(x*w)\n",
    "    \n",
    "    if tmp == 0 or tmp == 1:\n",
    "        return 1\n",
    "    else:\n",
    "        return 0\n",
    "\n",
    "print(NOR(0,0))\n",
    "print(NOR(0,1))\n",
    "print(NOR(1,0))\n",
    "print(NOR(1,1))"
   ]
  },
  {
   "cell_type": "markdown",
   "id": "latin-driving",
   "metadata": {},
   "source": [
    "### XOR GATE"
   ]
  },
  {
   "cell_type": "code",
   "execution_count": 49,
   "id": "polish-robin",
   "metadata": {},
   "outputs": [
    {
     "name": "stdout",
     "output_type": "stream",
     "text": [
      "0\n",
      "1\n",
      "1\n",
      "0\n"
     ]
    }
   ],
   "source": [
    "def XOR(x1, x2):\n",
    "    return AND(NAND(x1,x2), OR(x1,x2))\n",
    "    \n",
    "print(XOR(0,0))\n",
    "print(XOR(0,1))\n",
    "print(XOR(1,0))\n",
    "print(XOR(1,1))"
   ]
  },
  {
   "cell_type": "markdown",
   "id": "impressive-attraction",
   "metadata": {},
   "source": [
    "## Neural Network"
   ]
  },
  {
   "cell_type": "markdown",
   "id": "acceptable-motion",
   "metadata": {},
   "source": [
    "### Step function"
   ]
  },
  {
   "cell_type": "code",
   "execution_count": 54,
   "id": "cultural-torture",
   "metadata": {},
   "outputs": [
    {
     "data": {
      "image/png": "[encoded data removed]",
      "text/plain": [
       "<Figure size 432x288 with 1 Axes>"
      ]
     },
     "metadata": {
      "needs_background": "light"
     },
     "output_type": "display_data"
    }
   ],
   "source": [
    "import numpy as np\n",
    "import matplotlib.pyplot as plt\n",
    "\n",
    "def step(x):\n",
    "        return np.array(x>0, dtype = int)\n",
    "    \n",
    "x = np.arange(-5.0, 5.0, 0.1)\n",
    "y = step(x)\n",
    "plt.plot(x,y)\n",
    "plt.ylim(-0.1, 1.1)\n",
    "plt.show()"
   ]
  },
  {
   "cell_type": "markdown",
   "id": "worth-infection",
   "metadata": {},
   "source": [
    "### Sigmoid function"
   ]
  },
  {
   "cell_type": "code",
   "execution_count": 29,
   "id": "lesser-tolerance",
   "metadata": {},
   "outputs": [
    {
     "data": {
      "image/png": "[encoded data removed]",
      "text/plain": [
       "<Figure size 432x288 with 1 Axes>"
      ]
     },
     "metadata": {
      "needs_background": "light"
     },
     "output_type": "display_data"
    }
   ],
   "source": [
    "import numpy as np\n",
    "import matplotlib.pyplot as plt\n",
    "\n",
    "def sigmoid(x):\n",
    "    return 1/(1+np.exp(-x))\n",
    "\n",
    "x = np.arange(-5.0, 5.0, 0.1)\n",
    "y = sigmoid(x)\n",
    "\n",
    "plt.plot(x,y)\n",
    "plt.ylim(-0.1, 1.1)\n",
    "plt.show()"
   ]
  },
  {
   "cell_type": "markdown",
   "id": "distinguished-hunter",
   "metadata": {},
   "source": [
    "### ReLU function"
   ]
  },
  {
   "cell_type": "code",
   "execution_count": 78,
   "id": "freelance-invasion",
   "metadata": {},
   "outputs": [
    {
     "data": {
      "image/png": "[encoded data removed]",
      "text/plain": [
       "<Figure size 432x288 with 1 Axes>"
      ]
     },
     "metadata": {
      "needs_background": "light"
     },
     "output_type": "display_data"
    }
   ],
   "source": [
    "import numpy as np\n",
    "import matplotlib.pyplot as plt\n",
    "\n",
    "def ReLU(x):\n",
    "    return np.maximum(0,x)\n",
    "\n",
    "x = np.arange(-5.0, 5.0, 0.1)\n",
    "y = ReLU(x)\n",
    "\n",
    "plt.plot(x,y)\n",
    "plt.ylim(-0.1,1.1)\n",
    "plt.show()"
   ]
  },
  {
   "cell_type": "markdown",
   "id": "unexpected-karma",
   "metadata": {},
   "source": [
    "### 3-layer perceptron "
   ]
  },
  {
   "cell_type": "code",
   "execution_count": 97,
   "id": "south-convertible",
   "metadata": {},
   "outputs": [
    {
     "name": "stdout",
     "output_type": "stream",
     "text": [
      "[0.31443565 0.69095765]\n"
     ]
    }
   ],
   "source": [
    "import numpy as np\n",
    "\n",
    "def init_network():\n",
    "    network = {}\n",
    "    network['W1'] = np.array([[0.1, 0.3, 0.5], [0.2, 0.4, 0.6]])\n",
    "    network['b1'] = np.array([0.1, 0.2, 0.3])\n",
    "    network['W2'] = np.array([[0.1,0.4], [0.2, 0.5], [0.3, 0.6]])\n",
    "    network['b2'] = np.array([0.1, 0.2])\n",
    "    network['W3'] = np.array([[0.1, 0.3], [0.2, 0.4]])\n",
    "    network['b3'] = np.array([0.1, 0.2])\n",
    "    \n",
    "    return network\n",
    "\n",
    "def forward(network, x):\n",
    "    W1, W2, W3 = network['W1'], network['W2'], network['W3']\n",
    "    b1, b2, b3 = network['b1'], network['b2'], network['b3']\n",
    "    \n",
    "    #Layer1\n",
    "    a1 = np.dot(x, W1) + b1T\n",
    "    z1 = sigmoid(a1)\n",
    "    \n",
    "    #Layer 2\n",
    "    a2 = np.dot(z1, W2) + b2\n",
    "    z2 = sigmoid(a2)\n",
    "    \n",
    "    #Layter 3\n",
    "    a3 = np.dot(z2, W3) + b3\n",
    "    y = a3\n",
    "    \n",
    "    return y\n",
    "\n",
    "network = init_network()\n",
    "x = np.array([0.5, 0.5])\n",
    "y = forward(network,x)\n",
    "\n",
    "print(y)"
   ]
  },
  {
   "cell_type": "markdown",
   "id": "parliamentary-liberia",
   "metadata": {},
   "source": [
    "### MNIST Inference"
   ]
  },
  {
   "cell_type": "code",
   "execution_count": 6,
   "id": "scenic-center",
   "metadata": {},
   "outputs": [],
   "source": [
    "# Data check\n",
    "\n",
    "import sys, os\n",
    "sys.path.append(\"C:/Users/ImedisynRnD2/Documents/GitHub/Deep learning from scratch/deep-learning-from-scratch-master\")\n",
    "\n",
    "from mnist import load_mnist\n",
    "\n",
    "(x_train, t_train), (x_test, t_test) = load_mnist(flatten=True, normalize=False)"
   ]
  },
  {
   "cell_type": "code",
   "execution_count": 8,
   "id": "boxed-legislature",
   "metadata": {},
   "outputs": [
    {
     "name": "stdout",
     "output_type": "stream",
     "text": [
      "(60000, 784)\n",
      "(60000,)\n",
      "(10000, 784)\n",
      "(10000,)\n"
     ]
    }
   ],
   "source": [
    "print(x_train.shape)\n",
    "print(t_train.shape)\n",
    "print(x_test.shape)\n",
    "print(t_test.shape)"
   ]
  },
  {
   "cell_type": "code",
   "execution_count": 18,
   "id": "flush-stranger",
   "metadata": {},
   "outputs": [
    {
     "name": "stdout",
     "output_type": "stream",
     "text": [
      "5\n",
      "(784,)\n",
      "(28, 28)\n"
     ]
    }
   ],
   "source": [
    "# Image check\n",
    "\n",
    "import numpy as np\n",
    "from PIL import Image\n",
    "\n",
    "def img_show(img):\n",
    "    pil_img = Image.fromarray(np.uint8(img))\n",
    "    pil_img.show()\n",
    "\n",
    "(x_train, t_train), (t_test, t_test) = load_mnist(flatten=True, normalize=False)\n",
    "\n",
    "img = x_train[0]\n",
    "label = t_train[0]\n",
    "\n",
    "print(label)\n",
    "\n",
    "print(img.shape)\n",
    "img = img.reshape(28, 28)\n",
    "print(img.shape)\n",
    "\n",
    "img_show(img)"
   ]
  },
  {
   "cell_type": "code",
   "execution_count": 51,
   "id": "public-postage",
   "metadata": {},
   "outputs": [
    {
     "name": "stdout",
     "output_type": "stream",
     "text": [
      "(100, 10)\n",
      "Accuracy : 93.52000000000001%\n"
     ]
    }
   ],
   "source": [
    "# Let's Predict\n",
    "\n",
    "import pickle\n",
    "\n",
    "def sigmoid(x):\n",
    "    return 1/(1+np.exp(-x))\n",
    "\n",
    "def softmax(x):\n",
    "    return np.exp(x)/np.sum(np.exp(x))\n",
    "\n",
    "# Get data\n",
    "def get_data():\n",
    "    (x_train, t_train), (x_test, t_test) = load_mnist(normalize=True, flatten=True, one_hot_label=False)\n",
    "    return x_test, t_test\n",
    "\n",
    "# Initializae network\n",
    "def init_network():\n",
    "    with open(\"C:/Users/ImedisynRnD2/Documents/GitHub/Deep learning from scratch/deep-learning-from-scratch-master/ch03/sample_weight.pkl\", 'rb') as f:\n",
    "        network = pickle.load(f)\n",
    "    \n",
    "    return network\n",
    "\n",
    "# predict\n",
    "def predict(network, x):\n",
    "    W1, W2, W3 = network['W1'], network['W2'], network['W3']\n",
    "    b1, b2, b3 = network['b1'], network['b2'], network['b3']\n",
    "    \n",
    "    a1 = np.dot(x,W1) + b1\n",
    "    z1 = sigmoid(a1)\n",
    "    \n",
    "    a2 = np.dot(z1, W2) + b2\n",
    "    z2 = sigmoid(a2)\n",
    "    \n",
    "    a3 = np.dot(z2, W3) + b3\n",
    "    \n",
    "    y = softmax(a3)\n",
    "    \n",
    "    return y \n",
    "\n",
    "\n",
    "x,t = get_data()\n",
    "network = init_network()\n",
    "\n",
    "print(np.shape(network['W3']))\n",
    "\n",
    "tmp = 0\n",
    "for i in range(len(x)):\n",
    "  \n",
    "    y = predict(network, x[i])\n",
    "    pred = np.argmax(y)\n",
    "    \n",
    "    if pred==t[i]:\n",
    "        tmp += 1\n",
    "    \n",
    "print('Accuracy : %s%%' % str(tmp/len(x)*100))"
   ]
  },
  {
   "cell_type": "markdown",
   "id": "mathematical-tiffany",
   "metadata": {},
   "source": [
    "### Batch 처리 : forward propagation "
   ]
  },
  {
   "cell_type": "code",
   "execution_count": 61,
   "id": "white-advertiser",
   "metadata": {},
   "outputs": [
    {
     "name": "stdout",
     "output_type": "stream",
     "text": [
      "Accuracy:0.9352\n"
     ]
    }
   ],
   "source": [
    "x, t = get_data()\n",
    "network = init_network()\n",
    "\n",
    "batch_size = 100 # batch size\n",
    "accuracy_cnt = 0\n",
    "\n",
    "for i in range(0, len(x), batch_size):\n",
    "    \n",
    "#    print(i)\n",
    "    x_batch = x[i:i+batch_size]\n",
    "    y_batch = predict(network, x_batch)\n",
    "    p = np.argmax(y_batch, axis = 1)\n",
    "    accuracy_cnt += np.sum(p == t[i:i+batch_size])\n",
    "    \n",
    "print(\"Accuracy:\" + str(float(accuracy_cnt / len(x))))"
   ]
  },
  {
   "cell_type": "markdown",
   "id": "certain-homework",
   "metadata": {},
   "source": [
    "### 오차제곱합 (Sum of squares for error, SSE)"
   ]
  },
  {
   "cell_type": "code",
   "execution_count": 67,
   "id": "korean-insured",
   "metadata": {},
   "outputs": [
    {
     "name": "stdout",
     "output_type": "stream",
     "text": [
      "0.09750000000000003\n",
      "0.6974999999999999\n"
     ]
    }
   ],
   "source": [
    "y = [0.1, 0.05, 0.6, 0.0, 0.05, 0.1, 0.0, 0.1, 0.0, 0.0]\n",
    "t = [0, 0, 1, 0, 0, 0, 0, 0, 0, 0]\n",
    "\n",
    "def SSE(y,t):\n",
    "    return 0.5 * np.sum((np.array(y)-np.array(t))**2)\n",
    "\n",
    "print(SSE(y,t))\n",
    "\n",
    "y = [0.1, 0.05, 0.0, 0.6, 0.05, 0.1, 0.0, 0.1, 0.0, 0.0]\n",
    "\n",
    "print(SSE(y,t))"
   ]
  },
  {
   "cell_type": "markdown",
   "id": "raised-williams",
   "metadata": {},
   "source": [
    "### 교차엔트로피 (Cross-Entrophy error, CEE)"
   ]
  },
  {
   "cell_type": "code",
   "execution_count": 71,
   "id": "banner-tribe",
   "metadata": {},
   "outputs": [
    {
     "name": "stdout",
     "output_type": "stream",
     "text": [
      "0.510825457099338\n",
      "16.11809565095832\n"
     ]
    }
   ],
   "source": [
    "def CEE(y,t):\n",
    "    delta = 1e-7  # y = 0 인경우 Inf값이 되므로 이를 방지하기 위함\n",
    "    return -np.sum(t * np.log(np.array(y) + delta))\n",
    "\n",
    "y = [0.1, 0.05, 0.6, 0.0, 0.05, 0.1, 0.0, 0.1, 0.0, 0.0] # inference = 2, target = 2\n",
    "print(CEE(y,t))\n",
    "\n",
    "y = [0.1, 0.05, 0.0, 0.6, 0.05, 0.1, 0.0, 0.1, 0.0, 0.0] # inference = 3, target = 3\n",
    "print(CEE(y,t))"
   ]
  },
  {
   "cell_type": "markdown",
   "id": "orange-saver",
   "metadata": {},
   "source": [
    "### Mini batch"
   ]
  },
  {
   "cell_type": "code",
   "execution_count": 76,
   "id": "knowing-kuwait",
   "metadata": {},
   "outputs": [
    {
     "name": "stdout",
     "output_type": "stream",
     "text": [
      "(60000, 784)\n",
      "(60000, 10)\n"
     ]
    }
   ],
   "source": [
    "# data loading\n",
    "\n",
    "import sys, os\n",
    "sys.path.append(\"C:/Users/ImedisynRnD2/Documents/GitHub/Deep learning from scratch/deep-learning-from-scratch-master\")\n",
    "import numpy as np\n",
    "from mnist import load_mnist\n",
    "\n",
    "(x_train, t_train), (x_test, t_test) = load_mnist(normalize=True, one_hot_label=True)\n",
    "\n",
    "print(x_train.shape)\n",
    "print(t_train.shape)"
   ]
  },
  {
   "cell_type": "code",
   "execution_count": 81,
   "id": "proof-house",
   "metadata": {},
   "outputs": [],
   "source": [
    "# batch indexing\n",
    "\n",
    "train_size = x_train.shape[0]\n",
    "batch_size = 10\n",
    "batch_mask = np.random.choice(train_size, batch_size)\n",
    "x_batch = x_train[batch_mask]\n",
    "t_batch = t_train[batch_mask]"
   ]
  },
  {
   "cell_type": "code",
   "execution_count": 115,
   "id": "adopted-relations",
   "metadata": {},
   "outputs": [
    {
     "name": "stdout",
     "output_type": "stream",
     "text": [
      "0.510825457099338\n",
      "23.718987110506905\n"
     ]
    }
   ],
   "source": [
    "# Cross validation for batch ( for one-hot label)\n",
    "\n",
    "y = np.array([0.1, 0.05, 0.6, 0.0, 0.05, 0.1, 0.0, 0.1, 0.0, 0.0])\n",
    "t = np.array([0, 0, 1, 0, 0, 0, 0, 0, 0, 0])\n",
    "\n",
    "def CEE_for_batch_onehot(y,t):\n",
    "    if y.ndim == 1:\n",
    "        t = t.reshape(1, t.size)\n",
    "        y = y.reshape(1, y.size)\n",
    "        \n",
    "    batch_size = y.shape[0]\n",
    "    return -np.sum(t * np.log(y + 1e-7)) / batch_size\n",
    "\n",
    "print(CEE_for_batch_onehot(y,t))\n",
    "\n",
    "\n",
    "# Cross validation for batch ( for label )\n",
    "\n",
    "def CEE_for_batch_label(y,t):\n",
    "    if y.ndim == 1:\n",
    "        t = t.reshape(1, t.size)\n",
    "        y = y.reshape(1, y.size)\n",
    "    \n",
    "    batch_size = y.shape[0]\n",
    "    return -np.sum(np.log(y[np.arange(batch_size), t] + 1e-7)) / batch_size\n",
    "\n",
    "print(CEE_for_batch_label(y,t))"
   ]
  },
  {
   "cell_type": "markdown",
   "id": "serious-action",
   "metadata": {},
   "source": [
    "### Gradient\n"
   ]
  },
  {
   "cell_type": "code",
   "execution_count": 166,
   "id": "sustained-insulin",
   "metadata": {},
   "outputs": [],
   "source": [
    "def function_2(x):\n",
    "    return x[0]**2 + x[1]**2\n",
    "\n",
    "def numerical_gradient(f,x):\n",
    "    h = 1e-4 #0.0001\n",
    "    grad = np.zeros_like(x) #x와 형상이 같은 배열 생성\n",
    "    \n",
    "    for idx in range(x.size):\n",
    "        tmp_val = x[idx]\n",
    "        \n",
    "        #f(x+h) 계산\n",
    "        x[idx] = tmp_val + h\n",
    "        fxh1 = f(x)\n",
    "        \n",
    "        #f(x-h) 계산\n",
    "        x[idx] = tmp_val-h\n",
    "        fxh2 = f(x)\n",
    "        \n",
    "        grad[idx] = (fxh1 - fxh2) / (2*h)\n",
    "        x[idx] = tmp_val #값 복원\n",
    "        \n",
    "    return grad"
   ]
  },
  {
   "cell_type": "markdown",
   "id": "suburban-guide",
   "metadata": {},
   "source": [
    "### Gradient descent"
   ]
  },
  {
   "cell_type": "code",
   "execution_count": 146,
   "id": "responsible-officer",
   "metadata": {},
   "outputs": [],
   "source": [
    "def gradient_descent(f, init_x, lr = 0.01, step_num = 100):\n",
    "    x = init_x\n",
    "    \n",
    "    for i in range(step_num):\n",
    "        grad = numerical_gradient(f,x)\n",
    "        x -= lr * grad\n",
    "    return x    "
   ]
  },
  {
   "cell_type": "code",
   "execution_count": 284,
   "id": "enabling-vancouver",
   "metadata": {},
   "outputs": [
    {
     "data": {
      "image/png": "[encoded data removed]",
      "text/plain": [
       "<Figure size 432x288 with 1 Axes>"
      ]
     },
     "metadata": {
      "needs_background": "light"
     },
     "output_type": "display_data"
    }
   ],
   "source": [
    "# gradient descent apply\n",
    "import matplotlib.pyplot as plt\n",
    "\n",
    "def function_2(x):\n",
    "    return x[0]**2 + x[1]**2\n",
    "\n",
    "def gradient_descent_trace(f, init_x, lr =1e-1, step_num = 200):\n",
    "    x = init_x\n",
    "    grad_trace = np.zeros([step_num,2])\n",
    "    for i in range(step_num):\n",
    "        grad = numerical_gradient(f,x)\n",
    "        grad_trace[i,:] = x\n",
    "        plt.plot(grad_trace[i][0], grad_trace[i][1], 'bo')\n",
    "        x -= lr * grad\n",
    "    \n",
    "    plt.ylim([-5,5])\n",
    "    plt.xlim([-3,3])\n",
    "    plt.show()\n",
    "    \n",
    "    return x, grad_trace\n",
    "\n",
    "x = np.array([3.0, 4.0])\n",
    "\n",
    "[x, grad_trace] = gradient_descent_trace(function_2, x)\n",
    "\n"
   ]
  },
  {
   "cell_type": "code",
   "execution_count": 298,
   "id": "numeric-pillow",
   "metadata": {},
   "outputs": [
    {
     "name": "stdout",
     "output_type": "stream",
     "text": [
      "[ 1.25369288 -0.20692978  0.73713428]\n",
      "[[ 0.32810869  0.07615131 -0.40426   ]\n",
      " [ 0.49216303  0.11422696 -0.60639   ]]\n",
      "[[ 0.32810869  0.07615131 -0.40426   ]\n",
      " [ 0.49216303  0.11422696 -0.60639   ]]\n"
     ]
    }
   ],
   "source": [
    "### SimpleNET\n",
    "\n",
    "import sys, os\n",
    "sys.path.append(\"C:/Users/ImedisynRnD2/Documents/GitHub/Deep learning from scratch/deep-learning-from-scratch-master\")\n",
    "import numpy as np\n",
    "from common.gradient import numerical_gradient\n",
    "from common.functions import softmax, cross_entropy_error\n",
    "\n",
    "class simpleNet:\n",
    "    def __init__(self):\n",
    "        self.W = np.random.randn(2,3) # 정규분포로 초기화\n",
    "        \n",
    "    def predict(self, x):\n",
    "        return np.dot(x, self.W)\n",
    "    \n",
    "    def loss(self, x, t):\n",
    "        z = self.predict(x)\n",
    "        y = softmax(z)\n",
    "        loss = cross_entropy_error(y, t)\n",
    "        \n",
    "        return loss\n",
    "    \n",
    "net = simpleNet()\n",
    "x = np.array([0.6, 0.9])\n",
    "p = net.predict(x)\n",
    "print(p)\n",
    "\n",
    "np.argmax(p) # 최댓값 인덱스\n",
    "\n",
    "t = np.array([0, 0, 1]) #정답 인덱스\n",
    "net.loss(x, t)\n",
    "\n",
    "\n",
    "def f(W):\n",
    "    return net.loss(x,t)\n",
    "\n",
    "dW = numerical_gradient (f, net.W)\n",
    "print(dW)\n",
    "\n",
    "# f(W) by more simple function\n",
    "\n",
    "f = lambda w: net.loss(x,t)\n",
    "dw = numerical_gradient(f, net.W)\n",
    "print(dw)"
   ]
  },
  {
   "cell_type": "markdown",
   "id": "annoying-field",
   "metadata": {},
   "source": [
    "### 2 Layer Net"
   ]
  },
  {
   "cell_type": "code",
   "execution_count": 314,
   "id": "champion-bowling",
   "metadata": {},
   "outputs": [
    {
     "name": "stdout",
     "output_type": "stream",
     "text": [
      "(784, 100)\n"
     ]
    }
   ],
   "source": [
    "import sys, os\n",
    "sys.path.append(\"C:/Users/ImedisynRnD2/Documents/GitHub/Deep learning from scratch/deep-learning-from-scratch-master\")\n",
    "import numpy as np\n",
    "from common.functions import *\n",
    "from common.gradient import numerical_gradient\n",
    "\n",
    "class TwoLayerNet:\n",
    "    \n",
    "    def __init__(self, input_size, hidden_size, output_size, weight_init = 0.01):\n",
    "        \n",
    "        #initialization weight\n",
    "        \n",
    "        self.params = {}\n",
    "        self.params['W1'] = weight_init * np.random.randn(input_size, hidden_size)\n",
    "        self.params['b1'] = np.zeros(hidden_size)\n",
    "        \n",
    "        self.params['W2'] = weight_init * np.random.randn(hidden_size, output_size)\n",
    "        self.params['b2'] = np.zeros(output_size)\n",
    "        \n",
    "    def predict(self, x):\n",
    "        W1, W2 = self.params['W1'], self.params['W2']\n",
    "        b1, b2 = self.params['b1'], self.params['b2']\n",
    "        \n",
    "        a1 = np.dot(x, W1) + b1\n",
    "        z1 = sigmoid(a1)\n",
    "        \n",
    "        a2 = np.dot(z1, W2) + b2\n",
    "        z2 = softmax(a2)\n",
    "        \n",
    "        return z2\n",
    "    \n",
    "    def loss(self, x, t):\n",
    "        y = self.predict(x)\n",
    "        \n",
    "        return cross_entropy_error(y)\n",
    "    \n",
    "    def accuracy(self, x, t):\n",
    "        y = self.predict(x)\n",
    "        y = np.argmax(y)\n",
    "        t = np.argmax(t)\n",
    "        \n",
    "        accuracy = np.sum(y == t) / float(x.shape[0])\n",
    "        return accuracy\n",
    "    \n",
    "    def numerical_gradient(self, x, t):\n",
    "        \n",
    "        loss_W = lambda W: self.loss(x,t)\n",
    "        \n",
    "        grads = {}    \n",
    "        grads['W1'] = numerical_gradient(loss_W, self.params['W1'])\n",
    "        grads['b1'] = numerical_gradient(loss_W, self.params['b1'])\n",
    "        grads['W2'] = numerical_gradient(loss_W, self.params['W2'])\n",
    "        grads['b2'] = numerical_gradient(loss_W, self.params['b2'])\n",
    "        \n",
    "        return grads\n",
    "        \n",
    "\n",
    "net = TwoLayerNet(input_size = 784, hidden_size = 100, output_size = 10)\n",
    "\n",
    "print(net.params['W1'].shape)\n"
   ]
  },
  {
   "cell_type": "markdown",
   "id": "received-taiwan",
   "metadata": {},
   "source": [
    "### 미니배치 학습 구현하기\n"
   ]
  },
  {
   "cell_type": "code",
   "execution_count": 321,
   "id": "ranging-young",
   "metadata": {},
   "outputs": [
    {
     "name": "stdout",
     "output_type": "stream",
     "text": [
      "0th iter is processing...\n",
      "1000th iter is processing...\n",
      "2000th iter is processing...\n",
      "3000th iter is processing...\n",
      "4000th iter is processing...\n",
      "5000th iter is processing...\n",
      "6000th iter is processing...\n",
      "7000th iter is processing...\n",
      "8000th iter is processing...\n",
      "9000th iter is processing...\n"
     ]
    }
   ],
   "source": [
    "import sys, os\n",
    "sys.path.append(\"C:/Users/ImedisynRnD2/Documents/GitHub/Deep learning from scratch/deep-learning-from-scratch-master\")\n",
    "\n",
    "import numpy as np\n",
    "from mnist import load_mnist\n",
    "from two_layer_net import TwoLayerNet\n",
    "\n",
    "(x_train, t_train), (x_test, t_test) = load_mnist(normalize=True, one_hot_label = True)\n",
    "\n",
    "train_loss_list = []\n",
    "\n",
    "#Hyperparameter\n",
    "iters_num = 10000\n",
    "train_size = x_train.shape[0]\n",
    "batch_size = 100\n",
    "learning_rate = 0.1\n",
    "\n",
    "network = TwoLayerNet(input_size = 784, hidden_size = 50, output_size = 10)\n",
    "\n",
    "for i in range(iters_num):\n",
    "    \n",
    "    if i%1000 == 0:\n",
    "        print(str(i) + 'th iter is processing...')\n",
    "    \n",
    "    #get mini batch\n",
    "    batch_mask = np.random.choice(train_size, batch_size)\n",
    "    x_batch = x_train[batch_mask]\n",
    "    t_batch = t_train[batch_mask]\n",
    "    \n",
    "    #calculate gradient\n",
    "    grad = network.gradient(x_batch, t_batch)\n",
    "    \n",
    "    for key in ('W1', 'b1', 'W2', 'b2'):\n",
    "        network.params[key] -= learning_rate*grad[key]\n",
    "    \n",
    "    #record training \n",
    "    loss = network.loss(x_batch, t_batch)\n",
    "    train_loss_list.append(loss)\n",
    "    \n"
   ]
  },
  {
   "cell_type": "markdown",
   "id": "native-liabilities",
   "metadata": {},
   "source": [
    "## Backpropagation"
   ]
  },
  {
   "cell_type": "markdown",
   "id": "western-pollution",
   "metadata": {},
   "source": [
    "### MulLaer (곱셉 노드)"
   ]
  },
  {
   "cell_type": "code",
   "execution_count": 336,
   "id": "silver-tampa",
   "metadata": {},
   "outputs": [],
   "source": [
    "class MulLayer:\n",
    "    def __init__(self):\n",
    "        self.x = None  # x,y를 초기화. forward시 input값을 유지하기 위해서.\n",
    "        self.y = None\n",
    "    \n",
    "    def forward(self,x,y):\n",
    "        self.x = x\n",
    "        self.y = y\n",
    "        out = x*y\n",
    "        return out\n",
    "    \n",
    "    def backward(self,dout):\n",
    "        dx = dout * self.y # x와 y를 바꿈\n",
    "        dy = dout * self.x\n",
    "        \n",
    "        return dx, dy"
   ]
  },
  {
   "cell_type": "markdown",
   "id": "animated-wrist",
   "metadata": {},
   "source": [
    "### APPLE SHOPING "
   ]
  },
  {
   "cell_type": "code",
   "execution_count": 337,
   "id": "greater-telescope",
   "metadata": {},
   "outputs": [
    {
     "name": "stdout",
     "output_type": "stream",
     "text": [
      "220.00000000000003\n",
      "2.2 110.00000000000001 200\n"
     ]
    }
   ],
   "source": [
    "apple = 100\n",
    "apple_num = 2\n",
    "tax = 1.1\n",
    "\n",
    "# layers\n",
    "mul_apple_layer = MulLayer()\n",
    "mul_tax_layer = MulLayer()\n",
    "\n",
    "# forward propagation\n",
    "apple_price = mul_apple_layer.forward(apple,apple_num)\n",
    "price = mul_tax_layer.forward(apple_price, tax)\n",
    "\n",
    "print(price)\n",
    "\n",
    "# backward propagation\n",
    "dprice = 1\n",
    "dapple_price, dtax = mul_tax_layer.backward(dprice)\n",
    "dapple, dapple_num = mul_apple_layer.backward(dapple_price)\n",
    "print(dapple, dapple_num, dtax)"
   ]
  },
  {
   "cell_type": "markdown",
   "id": "spread-colleague",
   "metadata": {},
   "source": []
  },
  {
   "cell_type": "markdown",
   "id": "burning-preparation",
   "metadata": {},
   "source": [
    "### AddLayer (덧셈노드)"
   ]
  },
  {
   "cell_type": "code",
   "execution_count": 345,
   "id": "growing-philip",
   "metadata": {},
   "outputs": [],
   "source": [
    "class AddLayer:\n",
    "    def __init__(self):\n",
    "        pass     #초기화 필요없음\n",
    "        \n",
    "    def forward(self,x,y):\n",
    "        self.x = x\n",
    "        self.y = y\n",
    "        out = x+y\n",
    "        return out\n",
    "    \n",
    "    def backward(self,dout):\n",
    "        dx = dout*1\n",
    "        dy = dout*1\n",
    "        return dx, dy\n",
    "    "
   ]
  },
  {
   "cell_type": "markdown",
   "id": "opposite-surgeon",
   "metadata": {},
   "source": [
    "### 사과 귤 쇼핑 연습문제"
   ]
  },
  {
   "cell_type": "code",
   "execution_count": 347,
   "id": "prompt-future",
   "metadata": {},
   "outputs": [
    {
     "name": "stdout",
     "output_type": "stream",
     "text": [
      "715.0000000000001\n",
      "1.1 650 1.1 1.1 2.2 110.00000000000001 3.3000000000000003 165.0\n"
     ]
    }
   ],
   "source": [
    "apple = 100\n",
    "apple_num = 2\n",
    "oran = 150\n",
    "oran_num = 3\n",
    "tax = 1.1\n",
    "\n",
    "apple_layer = MulLayer()\n",
    "oran_layer = MulLayer()\n",
    "apple_oran_layer = AddLayer()\n",
    "price_layer = MulLayer()\n",
    "\n",
    "# forward\n",
    "apples = apple_layer.forward(apple, apple_num)\n",
    "orans = oran_layer.forward(oran, oran_num)\n",
    "apple_oran = apple_oran_layer.forward(apples, orans)\n",
    "price = price_layer.forward(apple_oran, tax)\n",
    "\n",
    "print(price)\n",
    "\n",
    "# Backprop\n",
    "dout = 1\n",
    "dprice, dtax = price_layer.backward(dout)\n",
    "dapples, dorans  = apple_oran_layer.backward(dprice)\n",
    "dapple, dapple_num = apple_layer.backward(dapples)\n",
    "doran, doran_num = oran_layer.backward(dorans)\n",
    "\n",
    "print(dprice, dtax, dapples, dorans, dapple, dapple_num, doran, doran_num)"
   ]
  },
  {
   "cell_type": "markdown",
   "id": "coastal-surge",
   "metadata": {},
   "source": [
    "### ReLU 계층 ( taeham )"
   ]
  },
  {
   "cell_type": "code",
   "execution_count": 397,
   "id": "killing-foundation",
   "metadata": {},
   "outputs": [
    {
     "name": "stdout",
     "output_type": "stream",
     "text": [
      "[0]\n",
      "[0]\n"
     ]
    }
   ],
   "source": [
    "class ReLU:\n",
    "    def __init__(self):\n",
    "        self.x = None\n",
    "        \n",
    "    def forward(self,x):\n",
    "        \n",
    "        self.x = x\n",
    "        self.x[self.x<=0]=0\n",
    "        \n",
    "        return self.x\n",
    "        \n",
    "    def backward(self,out):\n",
    "        out[self.x<=0] = 0\n",
    "        \n",
    "        return out\n",
    "\n",
    "relu = ReLU()\n",
    "#print(relu.forward(1))\n",
    "print(relu.forward(np.array([0])))\n",
    "print(relu.backward(np.array([2])))\n",
    "#print(relu.backward(2))\n"
   ]
  },
  {
   "cell_type": "markdown",
   "id": "polar-reader",
   "metadata": {},
   "source": [
    "### ReLU 계층 (textbook)\n"
   ]
  },
  {
   "cell_type": "code",
   "execution_count": 383,
   "id": "corrected-mason",
   "metadata": {},
   "outputs": [
    {
     "name": "stdout",
     "output_type": "stream",
     "text": [
      "[0]\n"
     ]
    }
   ],
   "source": [
    "class Relu:\n",
    "    def __init__(self):\n",
    "        self.mask = None\n",
    "    \n",
    "    def forward(self, x):\n",
    "        self.mask = (x <= 0)\n",
    "        out = x.copy()\n",
    "        out[self.mask] = 0 \n",
    "        \n",
    "        return out\n",
    "\n",
    "    def backwrd(self, dout):\n",
    "        dout[self.mask] = 0\n",
    "        dx = dout\n",
    "        \n",
    "        return dx\n",
    "    \n",
    "relu = Relu()\n",
    "\n",
    "print(relu.forward(np.array([0])))"
   ]
  },
  {
   "cell_type": "markdown",
   "id": "changing-louisiana",
   "metadata": {},
   "source": [
    "### Sigmoid 계층 "
   ]
  },
  {
   "cell_type": "code",
   "execution_count": 1,
   "id": "prime-premiere",
   "metadata": {},
   "outputs": [],
   "source": [
    "class Sigmoid: \n",
    "    def __init__(self):\n",
    "        #self.x = None\n",
    "        self.out = None\n",
    "    \n",
    "    def forward(self, x):\n",
    "        out =  1 / (1 + np.exp(-self.x))\n",
    "        self.out = out\n",
    "        \n",
    "        return out\n",
    "    \n",
    "    def backward(self, dout):\n",
    "        \n",
    "        dx = dout * self.out * (1 - self.out)\n",
    "        \n",
    "        return dx"
   ]
  },
  {
   "cell_type": "markdown",
   "id": "super-responsibility",
   "metadata": {},
   "source": [
    "### Affine 계층"
   ]
  },
  {
   "cell_type": "code",
   "execution_count": 1,
   "id": "sought-topic",
   "metadata": {},
   "outputs": [],
   "source": [
    "class Affine:\n",
    "    def __init__(self, W,b):\n",
    "        self.W = W\n",
    "        self.b = b\n",
    "        self.x = None\n",
    "        self.dW = None\n",
    "        self.db = None\n",
    "    \n",
    "    def forward(self, x):\n",
    "        self.x = x\n",
    "        out = np.dot(x, self.W) + self.b\n",
    "        \n",
    "        return out\n",
    "    \n",
    "    def backward(self, dout):\n",
    "        dx = np.dot(dout, self.W.T)\n",
    "        self.dW = np.dot(self.x.T, dout)\n",
    "        self.db = np.sum(dout, axis = 0)\n",
    "        \n",
    "        return dx"
   ]
  },
  {
   "cell_type": "markdown",
   "id": "mature-equality",
   "metadata": {},
   "source": [
    "### Affine layer for batch"
   ]
  },
  {
   "cell_type": "code",
   "execution_count": 1,
   "id": "cross-marking",
   "metadata": {},
   "outputs": [],
   "source": [
    "class Affine:\n",
    "    def __init__(self, W, b):\n",
    "        self.W = W\n",
    "        self.b = b\n",
    "        self.x = None\n",
    "        self.dW = None\n",
    "        self.db = None\n",
    "    \n",
    "    def forward(self, x):\n",
    "        self.x = x\n",
    "        out = np.dot(x, self.W) + self.b\n",
    "        \n",
    "        return out\n",
    "    \n",
    "    def backward(self, dout):\n",
    "        \n",
    "        dx = np.dot(self.W.T, dout)\n",
    "        self.dW = np.dot(dout, self.x.T)\n",
    "        self.db = np.sum(dout, axis=0)\n",
    "        \n",
    "        return dx"
   ]
  },
  {
   "cell_type": "markdown",
   "id": "green-thong",
   "metadata": {},
   "source": [
    "### Softmax-with-Loss\n"
   ]
  },
  {
   "cell_type": "code",
   "execution_count": 2,
   "id": "relevant-serial",
   "metadata": {},
   "outputs": [],
   "source": [
    "class SoftmaxWithLoss:\n",
    "    def __init__(self):\n",
    "        self.loss = None \n",
    "        self.y = None\n",
    "        self.t = None\n",
    "    \n",
    "    def forward(self, x, t):\n",
    "        self.y = softmax(x)\n",
    "        self.t = t \n",
    "        self.loss = cross_entropy_error(self.y, self.t)\n",
    "        return self.loss\n",
    "    \n",
    "    def backward(self, dout):\n",
    "        batch_size = self.t.shape[0]\n",
    "        dx = (self.y - self.t) / batch_size\n",
    "        \n",
    "        return dx\n",
    "    \n"
   ]
  },
  {
   "cell_type": "markdown",
   "id": "united-ontario",
   "metadata": {},
   "source": [
    "## Two-layer Network With Backpropagation"
   ]
  },
  {
   "cell_type": "code",
   "execution_count": 5,
   "id": "productive-beijing",
   "metadata": {},
   "outputs": [],
   "source": [
    "#### INSTANCE ####\n",
    "\n",
    "# params : save parameters by dictionary\n",
    "# layers : save layers by dictionary with orders\n",
    "# lastLayer : final layer. Softmax With Loss in Here\n",
    "\n",
    "#### METHOD ####\n",
    "\n",
    "# __init__(self, input_size, hidden_size, output_size, weight_init_std) : Initialzation\n",
    "# predict(self, x) : forward propagation\n",
    "# loss(self, x, t) : calculate cost by cost function \n",
    "# accuracy(self, x, t) : accuracy\n",
    "# numerical_gradien(self, x, t): gradient by numerical difference\n",
    "# gradient(self, x, t): gradient with backpropagation\n",
    "\n",
    "import sys, os\n",
    "sys.path.append(\"C:/Users/ImedisynRnD2/Documents/GitHub/Deep learning from scratch/deep-learning-from-scratch-master\")\n",
    "import numpy as np\n",
    "\n",
    "from common.layers import *\n",
    "from common.gradient import numerical_gradient\n",
    "from collections import OrderedDict\n",
    "\n",
    "class TwoLayerNet:\n",
    "    \n",
    "    def __init__(self, input_size, hidden_size, output_size, weight_init_std):\n",
    "        \n",
    "        #initializing\n",
    "        self.params = {}\n",
    "        self.params['W1'] = weight_init_std * np.random.randn(input_size, hidden_size)\n",
    "        self.params['b1'] = np.zeros(hidden_size)\n",
    "        self.params['W2'] = weight_init_std * np.random.randn(hidden_size, output_size)\n",
    "        self.params['b2'] = np.zeros(output_size)\n",
    "        \n",
    "        #setup layers\n",
    "        self.layers = OrderedDict()\n",
    "        self.layers['Affine1'] = Affine(self.params['W1'], self.params['b1'])\n",
    "        self.layers['Relu1'] = Relu()\n",
    "        self.layers['Affine2'] = Affine(self.params['W2'], self.params['b2'])\n",
    "        self.layers['Relu2'] = Relu()\n",
    "        self.lastLayer = SoftmaxWithLoss()\n",
    "        \n",
    "        \n",
    "    def predict(self,x):\n",
    "        \n",
    "        #calculate forward propagation for all layers before softmax in orders.\n",
    "        for layer in self.layers.values():\n",
    "            x = layer.forward(x)\n",
    "            \n",
    "        return x \n",
    "        \n",
    "    def loss(self, x, t):\n",
    "        #calculate loss \n",
    "        y = self.predict(x)\n",
    "        return self.lastLayer.forward(y, t)\n",
    "    \n",
    "    def accuracy(self, x, t):\n",
    "        #calculate accuracy\n",
    "        y = self.predict(x)\n",
    "        y = np.argmax(y, axis = 1)\n",
    "        \n",
    "        if t.ndim != 1 : t = np.argmax(t, axis =1)   \n",
    "        accuracy = np.sum(y == t) / float(x.shape[0])    \n",
    "        return accuracy\n",
    "    \n",
    "    def numerical_gradient(self, x, t):\n",
    "        loss_W = lambda W: self.loss(x,t)\n",
    "        \n",
    "        grads = {}\n",
    "        grads['W1'] = numerical_gradient(loss_W, self.params['W1'])\n",
    "        grads['b1'] = numerical_gradient(loss_W, self.params['b1'])\n",
    "        grads['W2'] = numerical_gradient(loss_W, self.params['W2'])\n",
    "        grads['b2'] = numerical_gradient(loss_W, self.params['b2'])\n",
    "        return grads\n",
    "    \n",
    "    def gradient(self, x, t):\n",
    "        #forward propagation\n",
    "        self.loss(x,t)\n",
    "        \n",
    "        #backpropagation\n",
    "        dout = 1\n",
    "        dout = self.lastLayer.backward(dout)\n",
    "        \n",
    "        layers = list(self.layers.values())\n",
    "        layers.reverse()\n",
    "        for layer in layers:\n",
    "            dout = layer.backward(dout)\n",
    "            \n",
    "        \n",
    "        # save result\n",
    "        grads = {}\n",
    "        grads['W1'] = self.layers['Affine1'].dW\n",
    "        grads['b1'] = self.layers['Affine1'].db\n",
    "        grads['W2'] = self.layers['Affine2'].dW\n",
    "        grads['b2'] = self.layers['Affine2'].db\n",
    "        \n",
    "        return grads "
   ]
  },
  {
   "cell_type": "markdown",
   "id": "adjacent-italic",
   "metadata": {},
   "source": [
    "## Training with backprop\n",
    "\n"
   ]
  },
  {
   "cell_type": "code",
   "execution_count": 6,
   "id": "through-stranger",
   "metadata": {},
   "outputs": [
    {
     "name": "stdout",
     "output_type": "stream",
     "text": [
      "0.0711 0.0681\n",
      "0.82835 0.8279\n",
      "0.8430166666666666 0.8405\n",
      "0.85135 0.8493\n",
      "0.8577166666666667 0.8534\n",
      "0.9498833333333333 0.9483\n",
      "0.9569166666666666 0.9551\n",
      "0.9611166666666666 0.9572\n",
      "0.9653 0.9592\n",
      "0.9686666666666667 0.961\n",
      "0.9707666666666667 0.9637\n",
      "0.9726 0.9649\n",
      "0.9742333333333333 0.9665\n",
      "0.9751833333333333 0.9677\n",
      "0.9774666666666667 0.9706\n",
      "0.9769666666666666 0.9697\n",
      "0.9791 0.9696\n"
     ]
    }
   ],
   "source": [
    "import sys, os\n",
    "sys.path.append(\"C:/Users/ImedisynRnD2/Documents/GitHub/Deep learning from scratch/deep-learning-from-scratch-master\")\n",
    "import numpy as np\n",
    "from mnist import load_mnist\n",
    "\n",
    "# read data\n",
    "(x_train, t_train) , (x_test, t_test) = load_mnist(normalize=True, one_hot_label=True)\n",
    "network = TwoLayerNet(input_size = 784, hidden_size = 50, output_size = 10, weight_init_std = 0.1)\n",
    "\n",
    "iters_num = 10000\n",
    "train_size = x_train.shape[0]\n",
    "batch_size = 100\n",
    "learning_rate = 0.1\n",
    "\n",
    "train_loss_list = []\n",
    "train_acc_list = []\n",
    "test_acc_list = []\n",
    "\n",
    "iter_per_epoch = max(train_size/batch_size, 1)\n",
    "\n",
    "for i in range(iters_num):\n",
    "    batch_mask = np.random.choice(train_size, batch_size)\n",
    "    x_batch = x_train[batch_mask]\n",
    "    t_batch = t_train[batch_mask]\n",
    "    \n",
    "    # gradient\n",
    "    grad = network.gradient(x_batch, t_batch)\n",
    "    \n",
    "    # update\n",
    "    for key in ('W1', 'b1', 'W2', 'b2'):\n",
    "        network.params[key] -= learning_rate * grad[key]\n",
    "    \n",
    "    loss = network.loss(x_batch, t_batch)\n",
    "    train_loss_list.append(loss)\n",
    "    \n",
    "    if i % iter_per_epoch == 0:\n",
    "        train_acc = network.accuracy(x_train, t_train)\n",
    "        test_acc = network.accuracy(x_test, t_test)\n",
    "        train_acc_list.append(train_acc)\n",
    "        test_acc_list.append(test_acc)\n",
    "        \n",
    "        print(train_acc, test_acc)\n"
   ]
  },
  {
   "cell_type": "code",
   "execution_count": 3,
   "id": "gentle-lunch",
   "metadata": {},
   "outputs": [],
   "source": [
    "class SGD:\n",
    "    def __init__(self, lr = 0.01):\n",
    "        self. lr = lr\n",
    "        \n",
    "    def update(self, params, grads):\n",
    "        for key in params.keys():\n",
    "            params[key] -= self.lr * grad[key]"
   ]
  },
  {
   "cell_type": "code",
   "execution_count": null,
   "id": "advance-worship",
   "metadata": {},
   "outputs": [],
   "source": []
  }
 ],
 "metadata": {
  "kernelspec": {
   "display_name": "Python 3",
   "language": "python",
   "name": "python3"
  },
  "language_info": {
   "codemirror_mode": {
    "name": "ipython",
    "version": 3
   },
   "file_extension": ".py",
   "mimetype": "text/x-python",
   "name": "python",
   "nbconvert_exporter": "python",
   "pygments_lexer": "ipython3",
   "version": "3.9.2"
  }
 },
 "nbformat": 4,
 "nbformat_minor": 5
}
